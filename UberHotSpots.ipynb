{
 "cells": [
  {
   "cell_type": "code",
   "execution_count": 2,
   "metadata": {},
   "outputs": [],
   "source": [
    "# import dependencies and Google API key\n",
    "import pandas as pd\n",
    "import matplotlib.pyplot as plt\n",
    "import numpy as np\n",
    "import scipy.stats as linregress\n",
    "import requests\n",
    "import gmaps\n",
    "import os\n",
    "from config import g_key"
   ]
  },
  {
   "cell_type": "code",
   "execution_count": 3,
   "metadata": {},
   "outputs": [
    {
     "data": {
      "text/plain": [
       "1880795"
      ]
     },
     "execution_count": 3,
     "metadata": {},
     "output_type": "execute_result"
    }
   ],
   "source": [
    "april_df = pd.read_csv(\"uber-raw-data-apr14.csv\")\n",
    "may_df = pd.read_csv(\"uber-raw-data-may14.csv\")\n",
    "june_df = pd.read_csv(\"uber-raw-data-jun14.csv\")\n",
    "apr_may_df = april_df.append(may_df)\n",
    "spring_df = apr_may_df.append(june_df)\n",
    "len(spring_df)"
   ]
  },
  {
   "cell_type": "code",
   "execution_count": 5,
   "metadata": {},
   "outputs": [
    {
     "data": {
      "application/vnd.jupyter.widget-view+json": {
       "model_id": "936d25108d584026821cf2804724d2a1",
       "version_major": 2,
       "version_minor": 0
      },
      "text/plain": [
       "Figure(layout=FigureLayout(height='420px'))"
      ]
     },
     "metadata": {},
     "output_type": "display_data"
    }
   ],
   "source": [
    "fig = gmaps.figure()\n",
    "gmaps.configure(api_key = g_key)\n",
    "\n",
    "# drop NA values\n",
    "spring_df = spring_df.dropna()\n",
    "\n",
    "# set up variables\n",
    "locations = spring_df[[\"Lat\", \"Lon\"]].astype(float)\n",
    "\n",
    "# create heatmap layer\n",
    "heat_layer = gmaps.heatmap_layer(locations, dissipating = False, max_intensity = 20, point_radius = .0005)\n",
    "\n",
    "fig.add_layer(heat_layer)\n",
    "\n",
    "# display map\n",
    "fig"
   ]
  },
  {
   "cell_type": "code",
   "execution_count": 8,
   "metadata": {},
   "outputs": [],
   "source": [
    "# save image as png"
   ]
  },
  {
   "cell_type": "code",
   "execution_count": null,
   "metadata": {},
   "outputs": [],
   "source": []
  }
 ],
 "metadata": {
  "kernelspec": {
   "display_name": "Python 3",
   "language": "python",
   "name": "python3"
  },
  "language_info": {
   "codemirror_mode": {
    "name": "ipython",
    "version": 3
   },
   "file_extension": ".py",
   "mimetype": "text/x-python",
   "name": "python",
   "nbconvert_exporter": "python",
   "pygments_lexer": "ipython3",
   "version": "3.6.10"
  }
 },
 "nbformat": 4,
 "nbformat_minor": 4
}
