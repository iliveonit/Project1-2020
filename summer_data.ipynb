{
 "cells": [
  {
   "cell_type": "code",
   "execution_count": 7,
   "metadata": {},
   "outputs": [],
   "source": [
    "# import dependencies and Google API key\n",
    "import pandas as pd\n",
    "import matplotlib.pyplot as plt\n",
    "import numpy as np\n",
    "import scipy.stats as linregress\n",
    "import requests\n",
    "import gmaps\n",
    "import os\n",
    "from config import g_key"
   ]
  },
  {
   "cell_type": "code",
   "execution_count": 8,
   "metadata": {},
   "outputs": [
    {
     "data": {
      "text/plain": [
       "2852393"
      ]
     },
     "execution_count": 8,
     "metadata": {},
     "output_type": "execute_result"
    }
   ],
   "source": [
    "jul_df = pd.read_csv(\"uber-raw-data-jul14.csv\")\n",
    "aug_df = pd.read_csv(\"uber-raw-data-aug14.csv\")\n",
    "sep_df = pd.read_csv(\"uber-raw-data-sep14.csv\")\n",
    "july_aug_df = jul_df.append(sep_df)\n",
    "summer_df = july_aug_df.append(sep_df)\n",
    "len(summer_df)"
   ]
  },
  {
   "cell_type": "code",
   "execution_count": null,
   "metadata": {},
   "outputs": [],
   "source": [
    "fig = gmaps.figure()\n",
    "gmaps.configure(api_key = g_key)\n",
    "\n",
    "# drop NA values\n",
    "spring_df = summer_df.dropna()\n",
    "\n",
    "# set up variables\n",
    "locations = summer_df[[\"Lat\", \"Lon\"]].astype(float)\n",
    "\n",
    "# create heatmap layer\n",
    "heat_layer = gmaps.heatmap_layer(locations, dissipating = False, max_intensity = 20, point_radius = .0005)\n",
    "\n",
    "fig.add_layer(heat_layer)\n",
    "\n",
    "# display map\n",
    "fig"
   ]
  },
  {
   "cell_type": "code",
   "execution_count": null,
   "metadata": {},
   "outputs": [],
   "source": []
  }
 ],
 "metadata": {
  "kernelspec": {
   "display_name": "Python 3",
   "language": "python",
   "name": "python3"
  },
  "language_info": {
   "codemirror_mode": {
    "name": "ipython",
    "version": 3
   },
   "file_extension": ".py",
   "mimetype": "text/x-python",
   "name": "python",
   "nbconvert_exporter": "python",
   "pygments_lexer": "ipython3",
   "version": "3.7.4"
  }
 },
 "nbformat": 4,
 "nbformat_minor": 2
}
