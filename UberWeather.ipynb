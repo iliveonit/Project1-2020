{
 "cells": [
  {
   "cell_type": "code",
   "execution_count": 49,
   "metadata": {},
   "outputs": [
    {
     "data": {
      "text/html": [
       "<div>\n",
       "<style scoped>\n",
       "    .dataframe tbody tr th:only-of-type {\n",
       "        vertical-align: middle;\n",
       "    }\n",
       "\n",
       "    .dataframe tbody tr th {\n",
       "        vertical-align: top;\n",
       "    }\n",
       "\n",
       "    .dataframe thead th {\n",
       "        text-align: right;\n",
       "    }\n",
       "</style>\n",
       "<table border=\"1\" class=\"dataframe\">\n",
       "  <thead>\n",
       "    <tr style=\"text-align: right;\">\n",
       "      <th></th>\n",
       "      <th>pickup_dt</th>\n",
       "      <th>borough</th>\n",
       "      <th>pickups</th>\n",
       "      <th>spd</th>\n",
       "      <th>vsb</th>\n",
       "      <th>temp</th>\n",
       "      <th>dewp</th>\n",
       "      <th>slp</th>\n",
       "      <th>pcp01</th>\n",
       "      <th>pcp06</th>\n",
       "      <th>pcp24</th>\n",
       "      <th>sd</th>\n",
       "      <th>hday</th>\n",
       "    </tr>\n",
       "  </thead>\n",
       "  <tbody>\n",
       "    <tr>\n",
       "      <th>0</th>\n",
       "      <td>2015-01-01 01:00:00</td>\n",
       "      <td>Bronx</td>\n",
       "      <td>152</td>\n",
       "      <td>5.0</td>\n",
       "      <td>10.0</td>\n",
       "      <td>30.0</td>\n",
       "      <td>7.0</td>\n",
       "      <td>1023.5</td>\n",
       "      <td>0.0</td>\n",
       "      <td>0.0</td>\n",
       "      <td>0.0</td>\n",
       "      <td>0.0</td>\n",
       "      <td>Y</td>\n",
       "    </tr>\n",
       "    <tr>\n",
       "      <th>1</th>\n",
       "      <td>2015-01-01 01:00:00</td>\n",
       "      <td>Brooklyn</td>\n",
       "      <td>1519</td>\n",
       "      <td>5.0</td>\n",
       "      <td>10.0</td>\n",
       "      <td>30.0</td>\n",
       "      <td>7.0</td>\n",
       "      <td>1023.5</td>\n",
       "      <td>0.0</td>\n",
       "      <td>0.0</td>\n",
       "      <td>0.0</td>\n",
       "      <td>0.0</td>\n",
       "      <td>Y</td>\n",
       "    </tr>\n",
       "    <tr>\n",
       "      <th>2</th>\n",
       "      <td>2015-01-01 01:00:00</td>\n",
       "      <td>EWR</td>\n",
       "      <td>0</td>\n",
       "      <td>5.0</td>\n",
       "      <td>10.0</td>\n",
       "      <td>30.0</td>\n",
       "      <td>7.0</td>\n",
       "      <td>1023.5</td>\n",
       "      <td>0.0</td>\n",
       "      <td>0.0</td>\n",
       "      <td>0.0</td>\n",
       "      <td>0.0</td>\n",
       "      <td>Y</td>\n",
       "    </tr>\n",
       "    <tr>\n",
       "      <th>3</th>\n",
       "      <td>2015-01-01 01:00:00</td>\n",
       "      <td>Manhattan</td>\n",
       "      <td>5258</td>\n",
       "      <td>5.0</td>\n",
       "      <td>10.0</td>\n",
       "      <td>30.0</td>\n",
       "      <td>7.0</td>\n",
       "      <td>1023.5</td>\n",
       "      <td>0.0</td>\n",
       "      <td>0.0</td>\n",
       "      <td>0.0</td>\n",
       "      <td>0.0</td>\n",
       "      <td>Y</td>\n",
       "    </tr>\n",
       "    <tr>\n",
       "      <th>4</th>\n",
       "      <td>2015-01-01 01:00:00</td>\n",
       "      <td>Queens</td>\n",
       "      <td>405</td>\n",
       "      <td>5.0</td>\n",
       "      <td>10.0</td>\n",
       "      <td>30.0</td>\n",
       "      <td>7.0</td>\n",
       "      <td>1023.5</td>\n",
       "      <td>0.0</td>\n",
       "      <td>0.0</td>\n",
       "      <td>0.0</td>\n",
       "      <td>0.0</td>\n",
       "      <td>Y</td>\n",
       "    </tr>\n",
       "  </tbody>\n",
       "</table>\n",
       "</div>"
      ],
      "text/plain": [
       "             pickup_dt    borough  pickups  spd   vsb  temp  dewp     slp  \\\n",
       "0  2015-01-01 01:00:00      Bronx      152  5.0  10.0  30.0   7.0  1023.5   \n",
       "1  2015-01-01 01:00:00   Brooklyn     1519  5.0  10.0  30.0   7.0  1023.5   \n",
       "2  2015-01-01 01:00:00        EWR        0  5.0  10.0  30.0   7.0  1023.5   \n",
       "3  2015-01-01 01:00:00  Manhattan     5258  5.0  10.0  30.0   7.0  1023.5   \n",
       "4  2015-01-01 01:00:00     Queens      405  5.0  10.0  30.0   7.0  1023.5   \n",
       "\n",
       "   pcp01  pcp06  pcp24   sd hday  \n",
       "0    0.0    0.0    0.0  0.0    Y  \n",
       "1    0.0    0.0    0.0  0.0    Y  \n",
       "2    0.0    0.0    0.0  0.0    Y  \n",
       "3    0.0    0.0    0.0  0.0    Y  \n",
       "4    0.0    0.0    0.0  0.0    Y  "
      ]
     },
     "execution_count": 49,
     "metadata": {},
     "output_type": "execute_result"
    }
   ],
   "source": [
    "# import dependencies\n",
    "import matplotlib.pyplot as plt\n",
    "import pandas as pd\n",
    "import numpy as np\n",
    "import scipy.stats as stats\n",
    "\n",
    "# import csv file and save as dataframe\n",
    "weather_df = pd.read_csv(\"uber_nyc_enriched.csv\")\n",
    "weather_df.head()"
   ]
  },
  {
   "cell_type": "code",
   "execution_count": 50,
   "metadata": {},
   "outputs": [
    {
     "data": {
      "text/html": [
       "<div>\n",
       "<style scoped>\n",
       "    .dataframe tbody tr th:only-of-type {\n",
       "        vertical-align: middle;\n",
       "    }\n",
       "\n",
       "    .dataframe tbody tr th {\n",
       "        vertical-align: top;\n",
       "    }\n",
       "\n",
       "    .dataframe thead th {\n",
       "        text-align: right;\n",
       "    }\n",
       "</style>\n",
       "<table border=\"1\" class=\"dataframe\">\n",
       "  <thead>\n",
       "    <tr style=\"text-align: right;\">\n",
       "      <th></th>\n",
       "      <th>Pickup Date</th>\n",
       "      <th>Borough</th>\n",
       "      <th>Pickups</th>\n",
       "      <th>Wind Speed (MPH)</th>\n",
       "      <th>Visibility (Miles)</th>\n",
       "      <th>Temperature (F)</th>\n",
       "      <th>Dewpoint</th>\n",
       "      <th>Sea Level Pressure</th>\n",
       "      <th>1 Hour Precipitation</th>\n",
       "      <th>6 Hour Precipitation</th>\n",
       "      <th>24 Hour Precipitation</th>\n",
       "      <th>Snow Depth (inches)</th>\n",
       "      <th>Holiday</th>\n",
       "    </tr>\n",
       "  </thead>\n",
       "  <tbody>\n",
       "    <tr>\n",
       "      <th>0</th>\n",
       "      <td>2015-01-01 01:00:00</td>\n",
       "      <td>Bronx</td>\n",
       "      <td>152</td>\n",
       "      <td>5.0</td>\n",
       "      <td>10.0</td>\n",
       "      <td>30.0</td>\n",
       "      <td>7.0</td>\n",
       "      <td>1023.5</td>\n",
       "      <td>0.0</td>\n",
       "      <td>0.0</td>\n",
       "      <td>0.0</td>\n",
       "      <td>0.0</td>\n",
       "      <td>Y</td>\n",
       "    </tr>\n",
       "    <tr>\n",
       "      <th>1</th>\n",
       "      <td>2015-01-01 01:00:00</td>\n",
       "      <td>Brooklyn</td>\n",
       "      <td>1519</td>\n",
       "      <td>5.0</td>\n",
       "      <td>10.0</td>\n",
       "      <td>30.0</td>\n",
       "      <td>7.0</td>\n",
       "      <td>1023.5</td>\n",
       "      <td>0.0</td>\n",
       "      <td>0.0</td>\n",
       "      <td>0.0</td>\n",
       "      <td>0.0</td>\n",
       "      <td>Y</td>\n",
       "    </tr>\n",
       "    <tr>\n",
       "      <th>2</th>\n",
       "      <td>2015-01-01 01:00:00</td>\n",
       "      <td>EWR</td>\n",
       "      <td>0</td>\n",
       "      <td>5.0</td>\n",
       "      <td>10.0</td>\n",
       "      <td>30.0</td>\n",
       "      <td>7.0</td>\n",
       "      <td>1023.5</td>\n",
       "      <td>0.0</td>\n",
       "      <td>0.0</td>\n",
       "      <td>0.0</td>\n",
       "      <td>0.0</td>\n",
       "      <td>Y</td>\n",
       "    </tr>\n",
       "    <tr>\n",
       "      <th>3</th>\n",
       "      <td>2015-01-01 01:00:00</td>\n",
       "      <td>Manhattan</td>\n",
       "      <td>5258</td>\n",
       "      <td>5.0</td>\n",
       "      <td>10.0</td>\n",
       "      <td>30.0</td>\n",
       "      <td>7.0</td>\n",
       "      <td>1023.5</td>\n",
       "      <td>0.0</td>\n",
       "      <td>0.0</td>\n",
       "      <td>0.0</td>\n",
       "      <td>0.0</td>\n",
       "      <td>Y</td>\n",
       "    </tr>\n",
       "    <tr>\n",
       "      <th>4</th>\n",
       "      <td>2015-01-01 01:00:00</td>\n",
       "      <td>Queens</td>\n",
       "      <td>405</td>\n",
       "      <td>5.0</td>\n",
       "      <td>10.0</td>\n",
       "      <td>30.0</td>\n",
       "      <td>7.0</td>\n",
       "      <td>1023.5</td>\n",
       "      <td>0.0</td>\n",
       "      <td>0.0</td>\n",
       "      <td>0.0</td>\n",
       "      <td>0.0</td>\n",
       "      <td>Y</td>\n",
       "    </tr>\n",
       "  </tbody>\n",
       "</table>\n",
       "</div>"
      ],
      "text/plain": [
       "           Pickup Date    Borough  Pickups  Wind Speed (MPH)  \\\n",
       "0  2015-01-01 01:00:00      Bronx      152               5.0   \n",
       "1  2015-01-01 01:00:00   Brooklyn     1519               5.0   \n",
       "2  2015-01-01 01:00:00        EWR        0               5.0   \n",
       "3  2015-01-01 01:00:00  Manhattan     5258               5.0   \n",
       "4  2015-01-01 01:00:00     Queens      405               5.0   \n",
       "\n",
       "   Visibility (Miles)  Temperature (F)  Dewpoint  Sea Level Pressure  \\\n",
       "0                10.0             30.0       7.0              1023.5   \n",
       "1                10.0             30.0       7.0              1023.5   \n",
       "2                10.0             30.0       7.0              1023.5   \n",
       "3                10.0             30.0       7.0              1023.5   \n",
       "4                10.0             30.0       7.0              1023.5   \n",
       "\n",
       "   1 Hour Precipitation  6 Hour Precipitation  24 Hour Precipitation  \\\n",
       "0                   0.0                   0.0                    0.0   \n",
       "1                   0.0                   0.0                    0.0   \n",
       "2                   0.0                   0.0                    0.0   \n",
       "3                   0.0                   0.0                    0.0   \n",
       "4                   0.0                   0.0                    0.0   \n",
       "\n",
       "   Snow Depth (inches) Holiday  \n",
       "0                  0.0       Y  \n",
       "1                  0.0       Y  \n",
       "2                  0.0       Y  \n",
       "3                  0.0       Y  \n",
       "4                  0.0       Y  "
      ]
     },
     "execution_count": 50,
     "metadata": {},
     "output_type": "execute_result"
    }
   ],
   "source": [
    "# rename columns\n",
    "weather_df = weather_df.rename(columns = {\"pickup_dt\": \"Pickup Date\",\n",
    "                                          \"borough\": \"Borough\",\n",
    "                                          \"pickups\": \"Pickups\",\n",
    "                                          \"spd\": \"Wind Speed (MPH)\",\n",
    "                                          \"vsb\": \"Visibility (Miles)\",\n",
    "                                          \"temp\": \"Temperature (F)\",\n",
    "                                          \"dewp\": \"Dewpoint\",\n",
    "                                          \"slp\": \"Sea Level Pressure\",\n",
    "                                          \"pcp01\": \"1 Hour Precipitation\",\n",
    "                                          \"pcp06\": \"6 Hour Precipitation\",\n",
    "                                          \"pcp24\": \"24 Hour Precipitation\",\n",
    "                                          \"sd\": \"Snow Depth (inches)\",\n",
    "                                          \"hday\": \"Holiday\"})\n",
    "weather_df.head()"
   ]
  },
  {
   "cell_type": "code",
   "execution_count": 51,
   "metadata": {},
   "outputs": [
    {
     "data": {
      "text/plain": [
       "36"
      ]
     },
     "execution_count": 51,
     "metadata": {},
     "output_type": "execute_result"
    }
   ],
   "source": [
    "# make pickup dataframe based on bad wind\n",
    "\n",
    "# arbitrary cutoffs for inclement weather: wind > 20 mph, temp < 40 or temp > 85, 24 hour precip >= 1, snow depth >= 2\n",
    "bad_wind_df = weather_df.dropna()\n",
    "\n",
    "bad_wind_df = bad_wind_df.loc[(bad_wind_df[\"Wind Speed (MPH)\"] >= 20)]\n",
    "\n",
    "bad_wind_df = bad_wind_df.dropna()\n",
    "len(bad_wind_df)"
   ]
  },
  {
   "cell_type": "code",
   "execution_count": 52,
   "metadata": {},
   "outputs": [
    {
     "data": {
      "text/plain": [
       "11298"
      ]
     },
     "execution_count": 52,
     "metadata": {},
     "output_type": "execute_result"
    }
   ],
   "source": [
    "# create bad temperature dataframes\n",
    "bad_hitemp_df = weather_df.dropna()\n",
    "bad_lotemp_df = weather_df.dropna()\n",
    "\n",
    "bad_hitemp_df = bad_hitemp_df.loc[(bad_hitemp_df[\"Temperature (F)\"] >= 85)]\n",
    "bad_lotemp_df = bad_lotemp_df.loc[(bad_lotemp_df[\"Temperature (F)\"] <= 40)]\n",
    "\n",
    "# append high temp and low temp dataframes creating bad temp dataframe\n",
    "bad_temp_df = bad_hitemp_df.append(bad_lotemp_df)\n",
    "len(bad_temp_df)"
   ]
  },
  {
   "cell_type": "code",
   "execution_count": 53,
   "metadata": {},
   "outputs": [
    {
     "data": {
      "text/plain": [
       "318"
      ]
     },
     "execution_count": 53,
     "metadata": {},
     "output_type": "execute_result"
    }
   ],
   "source": [
    "# create bad precipitation dataframe\n",
    "bad_precip_df = weather_df.dropna()\n",
    "\n",
    "bad_precip_df = bad_precip_df.loc[(bad_precip_df[\"24 Hour Precipitation\"] >= 1)]\n",
    "len(bad_precip_df)"
   ]
  },
  {
   "cell_type": "code",
   "execution_count": 54,
   "metadata": {},
   "outputs": [
    {
     "data": {
      "text/plain": [
       "6966"
      ]
     },
     "execution_count": 54,
     "metadata": {},
     "output_type": "execute_result"
    }
   ],
   "source": [
    "# create bad snow weather dataframe\n",
    "bad_snow_df = weather_df.dropna()\n",
    "\n",
    "bad_snow_df = bad_snow_df.loc[(bad_snow_df[\"Snow Depth (inches)\"] >= 2)]\n",
    "len(bad_snow_df)"
   ]
  },
  {
   "cell_type": "code",
   "execution_count": 55,
   "metadata": {},
   "outputs": [
    {
     "data": {
      "text/plain": [
       "12396"
      ]
     },
     "execution_count": 55,
     "metadata": {},
     "output_type": "execute_result"
    }
   ],
   "source": [
    "# append all the bad weather dataframes\n",
    "bad_weather_df = bad_wind_df.append([bad_temp_df, bad_precip_df, bad_snow_df])\n",
    "bad_weather_df = bad_weather_df.drop_duplicates()\n",
    "len(bad_weather_df)"
   ]
  },
  {
   "cell_type": "code",
   "execution_count": 56,
   "metadata": {},
   "outputs": [
    {
     "data": {
      "image/png": "[encoded data removed]",
      "text/plain": [
       "<Figure size 432x288 with 1 Axes>"
      ]
     },
     "metadata": {
      "needs_background": "light"
     },
     "output_type": "display_data"
    }
   ],
   "source": [
    "# bar chart for whole dataset\n",
    "\n",
    "# group initial dataframe by boroughs and set axes for chart\n",
    "weather_groups = weather_df.groupby(\"Borough\")\n",
    "x_axis = np.arange(len(weather_groups))\n",
    "pickups = weather_groups[\"Pickups\"].sum()\n",
    "\n",
    "# create bar chart\n",
    "plt.bar(x_axis, pickups)\n",
    "tick_locations = [value for value in x_axis]\n",
    "plt.xticks(tick_locations, [\"Bronx\", \"Brooklyn\", \"Newark Airport\", \"Manhattan\", \"Queens\", \"Staten Island\"], rotation=\"vertical\")\n",
    "plt.title(\"NYC Uber Pickups by Borough\")\n",
    "plt.xlabel(\"Borough\")\n",
    "plt.ylabel(\"Pickups (by 10 millions)\")\n",
    "plt.tight_layout()\n",
    "plt.show()"
   ]
  },
  {
   "cell_type": "code",
   "execution_count": 57,
   "metadata": {},
   "outputs": [
    {
     "data": {
      "image/png": "[encoded data removed]",
      "text/plain": [
       "<Figure size 432x288 with 1 Axes>"
      ]
     },
     "metadata": {
      "needs_background": "light"
     },
     "output_type": "display_data"
    }
   ],
   "source": [
    "# bar chart for boroughs in bad weather\n",
    "\n",
    "# group bad weather dataframe by boroughs\n",
    "bad_weather_groups = bad_weather_df.groupby(\"Borough\")\n",
    "x_axis = np.arange(len(bad_weather_groups))\n",
    "pickups = bad_weather_groups[\"Pickups\"].sum()\n",
    "\n",
    "# create bar chart\n",
    "plt.bar(x_axis, pickups)\n",
    "tick_locations = [value for value in x_axis]\n",
    "plt.xticks(tick_locations, [\"Bronx\", \"Brooklyn\", \"Newark Airport\", \"Manhattan\", \"Queens\", \"Staten Island\"], rotation=\"vertical\")\n",
    "plt.title(\"NYC Uber Pickups by Borough in Bad Weather\")\n",
    "plt.xlabel(\"Borough\")\n",
    "plt.ylabel(\"Pickups\")\n",
    "plt.tight_layout()\n",
    "plt.show()"
   ]
  },
  {
   "cell_type": "code",
   "execution_count": 58,
   "metadata": {},
   "outputs": [
    {
     "data": {
      "text/plain": [
       "([<matplotlib.patches.Wedge at 0x270fae75780>,\n",
       "  <matplotlib.patches.Wedge at 0x270fae75e80>,\n",
       "  <matplotlib.patches.Wedge at 0x270fae81588>,\n",
       "  <matplotlib.patches.Wedge at 0x270fae81c50>,\n",
       "  <matplotlib.patches.Wedge at 0x270fae8c358>,\n",
       "  <matplotlib.patches.Wedge at 0x270fae8ca20>],\n",
       " [Text(3.2961227825485495, 0.15992061269395377, 'Bronx'),\n",
       "  Text(2.7080111925974553, 1.8859149982878094, 'Brooklyn'),\n",
       "  Text(1.4386343052725548, 2.9699042637251716, 'Newark Airport'),\n",
       "  Text(-3.2353907656197345, -0.8687615286961946, 'Manhattan'),\n",
       "  Text(3.1535204413149014, -0.9722699348478643, 'Queens'),\n",
       "  Text(3.299996124516616, -0.0050574870554697384, 'Staten Island')],\n",
       " [Text(1.7978851541173901, 0.08722942510579296, '1.5%'),\n",
       "  Text(1.4770970141440662, 1.0286809081569868, '16.3%'),\n",
       "  Text(0.784709621057757, 1.6199477802137296, '0.0%'),\n",
       "  Text(-1.786708333252689, -0.47976382927998795, '72.7%'),\n",
       "  Text(1.7201020588990368, -0.5303290553715623, '9.4%'),\n",
       "  Text(1.799997886099972, -0.002758629302983493, '0.0%')])"
      ]
     },
     "execution_count": 58,
     "metadata": {},
     "output_type": "execute_result"
    },
    {
     "data": {
      "image/png": "[encoded data removed]",
      "text/plain": [
       "<Figure size 432x288 with 1 Axes>"
      ]
     },
     "metadata": {},
     "output_type": "display_data"
    }
   ],
   "source": [
    "# create pie chart for whole data set\n",
    "\n",
    "labels = [\"Bronx\", \"Brooklyn\", \"Newark Airport\", \"Manhattan\", \"Queens\", \"Staten Island\"]\n",
    "colors = [\"red\", \"orange\", \"lightcoral\", \"lightskyblue\", \"black\"]\n",
    "pickups = weather_groups[\"Pickups\"].sum()\n",
    "explode = [0,0,0,.05,0,0]\n",
    "plt.pie(pickups, explode=explode, labels = labels, autopct = \"%1.1f%%\", radius = 3)"
   ]
  },
  {
   "cell_type": "code",
   "execution_count": 59,
   "metadata": {},
   "outputs": [
    {
     "data": {
      "text/plain": [
       "([<matplotlib.patches.Wedge at 0x270faec4eb8>,\n",
       "  <matplotlib.patches.Wedge at 0x270faed15f8>,\n",
       "  <matplotlib.patches.Wedge at 0x270faed1cc0>,\n",
       "  <matplotlib.patches.Wedge at 0x270faedb3c8>,\n",
       "  <matplotlib.patches.Wedge at 0x270faedba90>,\n",
       "  <matplotlib.patches.Wedge at 0x270fb079198>],\n",
       " [Text(3.2961227825485495, 0.15992061269395377, 'Bronx'),\n",
       "  Text(2.7080111925974553, 1.8859149982878094, 'Brooklyn'),\n",
       "  Text(1.4386343052725548, 2.9699042637251716, 'Newark Airport'),\n",
       "  Text(-3.2353907656197345, -0.8687615286961946, 'Manhattan'),\n",
       "  Text(3.1535204413149014, -0.9722699348478643, 'Queens'),\n",
       "  Text(3.299996124516616, -0.0050574870554697384, 'Staten Island')],\n",
       " [Text(1.7978851541173901, 0.08722942510579296, '1.5%'),\n",
       "  Text(1.4770970141440662, 1.0286809081569868, '16.3%'),\n",
       "  Text(0.784709621057757, 1.6199477802137296, '0.0%'),\n",
       "  Text(-1.786708333252689, -0.47976382927998795, '72.7%'),\n",
       "  Text(1.7201020588990368, -0.5303290553715623, '9.4%'),\n",
       "  Text(1.799997886099972, -0.002758629302983493, '0.0%')])"
      ]
     },
     "execution_count": 59,
     "metadata": {},
     "output_type": "execute_result"
    },
    {
     "data": {
      "image/png": "[encoded data removed]",
      "text/plain": [
       "<Figure size 432x288 with 1 Axes>"
      ]
     },
     "metadata": {},
     "output_type": "display_data"
    }
   ],
   "source": [
    "# create pie chart for bad weather data set\n",
    "\n",
    "labels = labels = [\"Bronx\", \"Brooklyn\", \"Newark Airport\", \"Manhattan\", \"Queens\", \"Staten Island\"]\n",
    "colors = [\"red\", \"orange\", \"lightcoral\", \"lightskyblue\", \"black\"]\n",
    "pickups_weather = bad_weather_groups[\"Pickups\"].sum()\n",
    "explode = [0,0,0,.05,0,0]\n",
    "plt.pie(pickups, explode=explode, labels = labels, autopct = \"%1.1f%%\", radius = 3)"
   ]
  },
  {
   "cell_type": "code",
   "execution_count": 60,
   "metadata": {},
   "outputs": [
    {
     "data": {
      "text/plain": [
       "Ttest_indResult(statistic=0.7371651556664048, pvalue=0.48503783358224295)"
      ]
     },
     "execution_count": 60,
     "metadata": {},
     "output_type": "execute_result"
    }
   ],
   "source": [
    "stats.ttest_ind(pickups, pickups_weather, equal_var = False)\n",
    "\n",
    "# pvalue of 48.5% indicates that the discrepancies in data are mostly due to data randomness, therefore weather does NOT\n",
    "# seem to be an influence on where people are going to be picked up\n",
    "\n",
    "# still want to work on gross pickups vs bad weather pickups and compare usage rates"
   ]
  },
  {
   "cell_type": "code",
   "execution_count": null,
   "metadata": {},
   "outputs": [],
   "source": []
  }
 ],
 "metadata": {
  "kernelspec": {
   "display_name": "Python 3",
   "language": "python",
   "name": "python3"
  },
  "language_info": {
   "codemirror_mode": {
    "name": "ipython",
    "version": 3
   },
   "file_extension": ".py",
   "mimetype": "text/x-python",
   "name": "python",
   "nbconvert_exporter": "python",
   "pygments_lexer": "ipython3",
   "version": "3.6.10"
  }
 },
 "nbformat": 4,
 "nbformat_minor": 4
}
